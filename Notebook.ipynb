{
  "nbformat": 4,
  "nbformat_minor": 0,
  "metadata": {
    "colab": {
      "provenance": [],
      "collapsed_sections": []
    },
    "kernelspec": {
      "name": "python3",
      "display_name": "Python 3"
    },
    "language_info": {
      "name": "python"
    }
  },
  "cells": [
    {
      "cell_type": "markdown",
      "source": [
        "Update currently installed packages in your Google Colab Notebook's runtime"
      ],
      "metadata": {
        "id": "xQ2g9mu7XgaP"
      }
    },
    {
      "cell_type": "code",
      "execution_count": null,
      "metadata": {
        "colab": {
          "base_uri": "https://localhost:8080/"
        },
        "id": "9SBIOlIUVgCN",
        "outputId": "53b87b93-c4a8-4055-9a50-a238d0938d94"
      },
      "outputs": [
        {
          "output_type": "stream",
          "name": "stdout",
          "text": [
            "\r0% [Working]\r            \rGet:1 https://cloud.r-project.org/bin/linux/ubuntu bionic-cran40/ InRelease [3,626 B]\n",
            "\r0% [Waiting for headers] [Waiting for headers] [1 InRelease 0 B/3,626 B 0%] [Wa\r0% [Waiting for headers] [Waiting for headers] [Waiting for headers] [Waiting f\r0% [1 InRelease gpgv 3,626 B] [Waiting for headers] [Waiting for headers] [Wait\r                                                                               \rHit:2 http://archive.ubuntu.com/ubuntu bionic InRelease\n",
            "\r0% [1 InRelease gpgv 3,626 B] [Waiting for headers] [Waiting for headers] [Wait\r                                                                               \rIgn:3 https://developer.download.nvidia.com/compute/machine-learning/repos/ubuntu1804/x86_64  InRelease\n",
            "\r0% [1 InRelease gpgv 3,626 B] [Waiting for headers] [Waiting for headers] [Wait\r                                                                               \rGet:4 http://archive.ubuntu.com/ubuntu bionic-updates InRelease [88.7 kB]\n",
            "\r0% [1 InRelease gpgv 3,626 B] [4 InRelease 14.2 kB/88.7 kB 16%] [Waiting for he\r                                                                               \rGet:5 http://security.ubuntu.com/ubuntu bionic-security InRelease [88.7 kB]\n",
            "\r                                                                               \rHit:6 https://developer.download.nvidia.com/compute/cuda/repos/ubuntu1804/x86_64  InRelease\n",
            "\r                                                                               \rHit:7 http://ppa.launchpad.net/c2d4u.team/c2d4u4.0+/ubuntu bionic InRelease\n",
            "Hit:8 https://developer.download.nvidia.com/compute/machine-learning/repos/ubuntu1804/x86_64  Release\n",
            "Get:9 http://archive.ubuntu.com/ubuntu bionic-backports InRelease [83.3 kB]\n",
            "Hit:10 http://ppa.launchpad.net/cran/libgit2/ubuntu bionic InRelease\n",
            "Hit:11 http://ppa.launchpad.net/deadsnakes/ppa/ubuntu bionic InRelease\n",
            "Hit:12 http://ppa.launchpad.net/graphics-drivers/ppa/ubuntu bionic InRelease\n",
            "Get:14 http://archive.ubuntu.com/ubuntu bionic-updates/restricted amd64 Packages [1,257 kB]\n",
            "Get:15 http://archive.ubuntu.com/ubuntu bionic-updates/multiverse amd64 Packages [37.1 kB]\n",
            "Get:16 http://archive.ubuntu.com/ubuntu bionic-updates/main amd64 Packages [3,467 kB]\n",
            "Get:17 http://archive.ubuntu.com/ubuntu bionic-updates/universe amd64 Packages [2,332 kB]\n",
            "Get:18 http://archive.ubuntu.com/ubuntu bionic-backports/universe amd64 Packages [20.6 kB]\n",
            "Get:19 http://archive.ubuntu.com/ubuntu bionic-backports/main amd64 Packages [64.0 kB]\n",
            "Get:20 http://security.ubuntu.com/ubuntu bionic-security/restricted amd64 Packages [1,215 kB]\n",
            "Fetched 8,657 kB in 3s (2,589 kB/s)\n",
            "Reading package lists... Done\n"
          ]
        }
      ],
      "source": [
        "!apt-get update -y"
      ]
    },
    {
      "cell_type": "markdown",
      "source": [
        "Spark is written in the Scala programming language and requires the Java Virtual Machine (JVM) to run. Therefore, our first task is to download Java."
      ],
      "metadata": {
        "id": "EQlit156Ximj"
      }
    },
    {
      "cell_type": "code",
      "source": [
        "!apt-get install openjdk-8-jdk-headless -qq > /dev/null"
      ],
      "metadata": {
        "id": "fR1jqw-bXTi9"
      },
      "execution_count": null,
      "outputs": []
    },
    {
      "cell_type": "markdown",
      "source": [
        "Next, we will download and unzip Apache Spark with Hadoop 2.7 to install it."
      ],
      "metadata": {
        "id": "jDZI6VnbXm3X"
      }
    },
    {
      "cell_type": "code",
      "source": [
        "!wget -q https://archive.apache.org/dist/spark/spark-3.1.2/spark-3.1.2-bin-hadoop2.7.tgz"
      ],
      "metadata": {
        "id": "tFRI6WpeXZEf"
      },
      "execution_count": null,
      "outputs": []
    },
    {
      "cell_type": "code",
      "source": [
        "!tar xf spark-3.1.2-bin-hadoop2.7.tgz"
      ],
      "metadata": {
        "id": "XIrQT03XXbev"
      },
      "execution_count": null,
      "outputs": []
    },
    {
      "cell_type": "markdown",
      "source": [
        "Setup Environment variables for Java and Spark"
      ],
      "metadata": {
        "id": "fm30koQnX3s6"
      }
    },
    {
      "cell_type": "code",
      "source": [
        "import os\n",
        "\n",
        "os.environ[\"JAVA_HOME\"] = \"/usr/lib/jvm/java-8-openjdk-amd64\"\n",
        "os.environ[\"SPARK_HOME\"] = \"/content/spark-3.1.2-bin-hadoop2.7\""
      ],
      "metadata": {
        "id": "MC4RxSkgX6GY"
      },
      "execution_count": null,
      "outputs": []
    },
    {
      "cell_type": "markdown",
      "source": [
        "Then we need to install and import the 'findspark' library that will locate Spark on the system and import it as a regular library."
      ],
      "metadata": {
        "id": "A_bXY3DSZ8hu"
      }
    },
    {
      "cell_type": "code",
      "source": [
        "!pip install -q findspark\n",
        "\n",
        "import findspark\n",
        "\n",
        "findspark.init()"
      ],
      "metadata": {
        "id": "IA4WVVeiYHte"
      },
      "execution_count": null,
      "outputs": []
    },
    {
      "cell_type": "markdown",
      "source": [
        "Now, import SparkSession from pyspark.sql and create a SparkSession, which will be the entry point to Spark."
      ],
      "metadata": {
        "id": "l4bobyzxZ9sq"
      }
    },
    {
      "cell_type": "code",
      "source": [
        "from pyspark.sql import SparkSession \n",
        "\n",
        "spark = (SparkSession\n",
        "        .builder\n",
        "        .appName(\"datagrokr\")\n",
        "        .getOrCreate())"
      ],
      "metadata": {
        "id": "W8KLz8knYU6t"
      },
      "execution_count": null,
      "outputs": []
    },
    {
      "cell_type": "markdown",
      "source": [
        "Download all the files from Google drive link into the content directory of colab notebook."
      ],
      "metadata": {
        "id": "hZzFZ2jYaGtl"
      }
    },
    {
      "cell_type": "code",
      "source": [
        "import gdown\n",
        "\n",
        "url = \"https://drive.google.com/drive/folders/1QgWPHV_l25Ui9L7et8mkZohAOG59UTkQ\"\n",
        "gdown.download_folder(url, quiet=True, use_cookies=False)"
      ],
      "metadata": {
        "colab": {
          "base_uri": "https://localhost:8080/"
        },
        "id": "RzvnS2lHZ0qt",
        "outputId": "de87f398-93f6-4e1f-acbb-eaed8bd60094"
      },
      "execution_count": null,
      "outputs": [
        {
          "output_type": "execute_result",
          "data": {
            "text/plain": [
              "['/content/chess/chess_schema.png',\n",
              " '/content/chess/chess_wc_history_game_info.csv',\n",
              " '/content/chess/chess_wc_history_moves.csv',\n",
              " '/content/chess/eco_codes.csv']"
            ]
          },
          "metadata": {},
          "execution_count": 10
        }
      ]
    },
    {
      "cell_type": "markdown",
      "source": [
        "Create dataframes for each of the datasets"
      ],
      "metadata": {
        "id": "f7BWm7cocJS9"
      }
    },
    {
      "cell_type": "markdown",
      "source": [
        "Chess WC History Game Info"
      ],
      "metadata": {
        "id": "7I8NDjZiiL6y"
      }
    },
    {
      "cell_type": "code",
      "source": [
        "df_games = spark.read.load(\"/content/chess/chess_wc_history_game_info.csv\",\n",
        "                     format=\"csv\", sep=\",\", inferSchema=\"true\", header=\"true\")"
      ],
      "metadata": {
        "id": "HlkvPvxdbqNh"
      },
      "execution_count": null,
      "outputs": []
    },
    {
      "cell_type": "code",
      "source": [
        "df_games.createOrReplaceTempView(\"tableHead\")\n",
        "\n",
        "query = \"SELECT * FROM tableHead\"\n",
        "df_games_head = spark.sql(\"SELECT * from tableHead\")\n",
        "df_games_head.show(truncate=False)"
      ],
      "metadata": {
        "colab": {
          "base_uri": "https://localhost:8080/"
        },
        "id": "nLW956uzdR81",
        "outputId": "1e35be0f-56ee-4eba-bd9a-46f88dee0767"
      },
      "execution_count": null,
      "outputs": [
        {
          "output_type": "stream",
          "name": "stdout",
          "text": [
            "+------------------------------------+----------+--------+----------+-----------+-----+----------------+----------------+-------+---------+---------+-----------+-----------+---------+----------+----------------+---------+---------------------+---+------------------------+---------------+\n",
            "|game_id                             |game_order|event   |site      |date_played|round|white           |black           |result |white_elo|black_elo|white_title|black_title|winner   |winner_elo|loser           |loser_elo|winner_loser_elo_diff|eco|date_created            |tournament_name|\n",
            "+------------------------------------+----------+--------+----------+-----------+-----+----------------+----------------+-------+---------+---------+-----------+-----------+---------+----------+----------------+---------+---------------------+---+------------------------+---------------+\n",
            "|86e0b7f5-7b94-4ae3-97c8-317371622795|1         |WCh 2021|Dubai UAE |2021.11.26 |1.0  |Nepomniachtchi,I|Carlsen,M       |1/2-1/2|2782     |2855     |null       |null       |draw     |null      |draw            |null     |0                    |C88|2022-07-22T22:33:50+0000|WorldChamp2021 |\n",
            "|dc4a10ab-54cf-49d0-b7ed-8c81a07e3e27|2         |WCh 2021|Dubai UAE |2021.11.27 |2.0  |Carlsen,M       |Nepomniachtchi,I|1/2-1/2|2855     |2782     |null       |null       |draw     |null      |draw            |null     |0                    |E06|2022-07-22T22:33:50+0000|WorldChamp2021 |\n",
            "|f042ca37-8899-4887-87e9-e9d91c6e2d0e|3         |WCh 2021|Dubai UAE |2021.11.28 |3.0  |Nepomniachtchi,I|Carlsen,M       |1/2-1/2|2782     |2855     |null       |null       |draw     |null      |draw            |null     |0                    |C88|2022-07-22T22:33:50+0000|WorldChamp2021 |\n",
            "|f70e4bbc-21e3-46f3-add0-7f0091822d5a|4         |WCh 2021|Dubai UAE |2021.11.30 |4.0  |Carlsen,M       |Nepomniachtchi,I|1/2-1/2|2855     |2782     |null       |null       |draw     |null      |draw            |null     |0                    |C42|2022-07-22T22:33:50+0000|WorldChamp2021 |\n",
            "|c941c323-308a-4c86-9007-e1eb2a22cea6|5         |WCh 2021|Dubai UAE |2021.12.01 |5.0  |Nepomniachtchi,I|Carlsen,M       |1/2-1/2|2782     |2855     |null       |null       |draw     |null      |draw            |null     |0                    |C88|2022-07-22T22:33:50+0000|WorldChamp2021 |\n",
            "|58e83255-93bb-4d58-8c14-78a991419338|6         |WCh 2021|Dubai UAE |2021.12.03 |6.0  |Carlsen,M       |Nepomniachtchi,I|1-0    |2855     |2782     |null       |null       |Carlsen,M|2855      |Nepomniachtchi,I|2782     |73                   |D02|2022-07-22T22:33:50+0000|WorldChamp2021 |\n",
            "|29181d93-73f4-4fb2-af29-23bcf066cb62|7         |WCh 2021|Dubai UAE |2021.12.04 |7.0  |Nepomniachtchi,I|Carlsen,M       |1/2-1/2|2782     |2855     |null       |null       |draw     |null      |draw            |null     |0                    |C88|2022-07-22T22:33:50+0000|WorldChamp2021 |\n",
            "|8a4ccd8c-d437-4296-a815-6f55b2679c3e|8         |WCh 2021|Dubai UAE |2021.12.05 |8.0  |Carlsen,M       |Nepomniachtchi,I|1-0    |2855     |2782     |null       |null       |Carlsen,M|2855      |Nepomniachtchi,I|2782     |73                   |C43|2022-07-22T22:33:50+0000|WorldChamp2021 |\n",
            "|55a122db-27d1-495c-bec4-bc811c1e6950|9         |WCh 2021|Dubai UAE |2021.12.07 |9.0  |Nepomniachtchi,I|Carlsen,M       |0-1    |2782     |2855     |null       |null       |Carlsen,M|2855      |Nepomniachtchi,I|2782     |73                   |A13|2022-07-22T22:33:50+0000|WorldChamp2021 |\n",
            "|1f900d18-5ea3-4f48-8e39-cd50ed088694|10        |WCh 2021|Dubai UAE |2021.12.08 |10.0 |Carlsen,M       |Nepomniachtchi,I|1/2-1/2|2855     |2782     |null       |null       |draw     |null      |draw            |null     |0                    |C42|2022-07-22T22:33:50+0000|WorldChamp2021 |\n",
            "|c512a953-a341-47c9-a907-a608bc08be11|11        |WCh 2021|Dubai UAE |2021.12.10 |11.0 |Nepomniachtchi,I|Carlsen,M       |0-1    |2782     |2855     |null       |null       |Carlsen,M|2855      |Nepomniachtchi,I|2782     |73                   |C50|2022-07-22T22:33:50+0000|WorldChamp2021 |\n",
            "|99d39a93-427e-4d1a-bd36-ff23f98829e5|1         |WCh 2018|London ENG|2018.11.09 |1.0  |Caruana, Fabiano|Carlsen, Magnus |1/2-1/2|2832     |2835     |GM         |GM         |draw     |null      |draw            |null     |0                    |B31|2022-07-22T22:33:50+0000|WorldChamp2018 |\n",
            "|c87ceb3e-67a7-45d4-aa9e-ca2b2ead82be|2         |WCh 2018|London ENG|2018.11.10 |2.0  |Carlsen, Magnus |Caruana, Fabiano|1/2-1/2|2835     |2832     |GM         |GM         |draw     |null      |draw            |null     |0                    |D37|2022-07-22T22:33:50+0000|WorldChamp2018 |\n",
            "|d50510ea-9c1a-4604-835a-430eb9502894|3         |WCh 2018|London ENG|2018.11.12 |3.0  |Caruana, Fabiano|Carlsen, Magnus |1/2-1/2|2832     |2835     |GM         |GM         |draw     |null      |draw            |null     |0                    |B31|2022-07-22T22:33:50+0000|WorldChamp2018 |\n",
            "|e899e16a-281e-41b9-a060-7bbef890af0a|4         |WCh 2018|London ENG|2018.11.13 |4.0  |Carlsen, Magnus |Caruana, Fabiano|1/2-1/2|2835     |2832     |GM         |GM         |draw     |null      |draw            |null     |0                    |A29|2022-07-22T22:33:50+0000|WorldChamp2018 |\n",
            "|59f8da88-fd21-4051-b25d-60f720ea4b70|5         |WCh 2018|London ENG|2018.11.15 |5.0  |Caruana, Fabiano|Carlsen, Magnus |1/2-1/2|2832     |2835     |GM         |GM         |draw     |null      |draw            |null     |0                    |B31|2022-07-22T22:33:50+0000|WorldChamp2018 |\n",
            "|6dcc4b46-3155-47ef-8346-1356ce5a05ee|6         |WCh 2018|London ENG|2018.11.16 |6.0  |Carlsen, Magnus |Caruana, Fabiano|1/2-1/2|2835     |2832     |GM         |GM         |draw     |null      |draw            |null     |0                    |C42|2022-07-22T22:33:50+0000|WorldChamp2018 |\n",
            "|c0c727cf-03ec-4b4a-b0f5-77af800a7287|7         |WCh 2018|London ENG|2018.11.18 |7.0  |Carlsen, Magnus |Caruana, Fabiano|1/2-1/2|2835     |2832     |GM         |GM         |draw     |null      |draw            |null     |0                    |D37|2022-07-22T22:33:50+0000|WorldChamp2018 |\n",
            "|4c14e044-cacc-405d-af4d-2b392faca170|8         |WCh 2018|London ENG|2018.11.19 |8.0  |Caruana, Fabiano|Carlsen, Magnus |1/2-1/2|2832     |2835     |GM         |GM         |draw     |null      |draw            |null     |0                    |B33|2022-07-22T22:33:50+0000|WorldChamp2018 |\n",
            "|3f4eb26e-3cd1-43b0-a451-f1c6146d801d|9         |WCh 2018|London ENG|2018.11.21 |9.0  |Carlsen, Magnus |Caruana, Fabiano|1/2-1/2|2835     |2832     |GM         |GM         |draw     |null      |draw            |null     |0                    |A29|2022-07-22T22:33:50+0000|WorldChamp2018 |\n",
            "+------------------------------------+----------+--------+----------+-----------+-----+----------------+----------------+-------+---------+---------+-----------+-----------+---------+----------+----------------+---------+---------------------+---+------------------------+---------------+\n",
            "only showing top 20 rows\n",
            "\n"
          ]
        }
      ]
    },
    {
      "cell_type": "markdown",
      "source": [
        "Chess WC History Moves"
      ],
      "metadata": {
        "id": "UkaBhJ3NiOLS"
      }
    },
    {
      "cell_type": "code",
      "source": [
        "df_moves = spark.read.load(\"/content/chess/chess_wc_history_game_info.csv\",\n",
        "                     format=\"csv\", sep=\",\", inferSchema=\"true\", header=\"true\")"
      ],
      "metadata": {
        "id": "c256aub7hm59"
      },
      "execution_count": null,
      "outputs": []
    },
    {
      "cell_type": "code",
      "source": [
        "df_moves.createOrReplaceTempView(\"tableHead\")\n",
        "\n",
        "query = \"SELECT * FROM tableHead\"\n",
        "df_moves_head = spark.sql(\"SELECT * from tableHead\")\n",
        "df_moves_head.show(truncate=False)"
      ],
      "metadata": {
        "id": "xLqF6MwSh5Ra"
      },
      "execution_count": null,
      "outputs": []
    }
  ]
}